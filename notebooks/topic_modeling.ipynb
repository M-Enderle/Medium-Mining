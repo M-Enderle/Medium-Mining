{
 "cells": [
  {
   "cell_type": "code",
   "execution_count": null,
   "id": "ff6c8efb",
   "metadata": {},
   "outputs": [
    {
     "name": "stdout",
     "output_type": "stream",
     "text": [
      "Using device: mps\n"
     ]
    }
   ],
   "source": [
    "from database.database import get_session, MediumArticle\n",
    "import pandas as pd\n",
    "import seaborn as sns\n",
    "import matplotlib.pyplot as plt\n",
    "from bertopic import BERTopic\n",
    "from transformers import BertTokenizer, BertModel\n",
    "import numpy as np\n",
    "import torch\n",
    "from tqdm.notebook import tqdm\n",
    "from rich.progress import track\n",
    "from rich.progress import Progress\n",
    "\n",
    "# Setup device - properly configure MPS for Apple Silicon\n",
    "device = torch.device('mps' if torch.backends.mps.is_available() else 'cuda' if torch.cuda.is_available() else 'cpu')\n",
    "print(f\"Using device: {device}\")\n",
    "\n",
    "sns.set(style=\"whitegrid\")\n",
    "sns.set_context(\n",
    "    \"paper\",\n",
    "    rc={\n",
    "        \"font.size\": 8,\n",
    "        \"axes.titlesize\": 10,\n",
    "        \"axes.labelsize\": 8,\n",
    "        \"fig.title_size\": 13,\n",
    "    },\n",
    ")\n",
    "\n",
    "tokenizer = BertTokenizer.from_pretrained('bert-base-uncased')"
   ]
  },
  {
   "cell_type": "code",
   "execution_count": 87,
   "id": "ca501bff",
   "metadata": {},
   "outputs": [
    {
     "data": {
      "text/plain": [
       "969"
      ]
     },
     "execution_count": 87,
     "metadata": {},
     "output_type": "execute_result"
    }
   ],
   "source": [
    "all_articles = get_session().query(MediumArticle).all()\n",
    "len(all_articles)"
   ]
  },
  {
   "cell_type": "code",
   "execution_count": 88,
   "id": "a7076135",
   "metadata": {},
   "outputs": [
    {
     "data": {
      "text/html": [
       "<div>\n",
       "<style scoped>\n",
       "    .dataframe tbody tr th:only-of-type {\n",
       "        vertical-align: middle;\n",
       "    }\n",
       "\n",
       "    .dataframe tbody tr th {\n",
       "        vertical-align: top;\n",
       "    }\n",
       "\n",
       "    .dataframe thead th {\n",
       "        text-align: right;\n",
       "    }\n",
       "</style>\n",
       "<table border=\"1\" class=\"dataframe\">\n",
       "  <thead>\n",
       "    <tr style=\"text-align: right;\">\n",
       "      <th></th>\n",
       "      <th>url_id</th>\n",
       "      <th>title</th>\n",
       "      <th>author_id</th>\n",
       "      <th>date_published</th>\n",
       "      <th>date_modified</th>\n",
       "      <th>date_created</th>\n",
       "      <th>description</th>\n",
       "      <th>publisher_type</th>\n",
       "      <th>is_free</th>\n",
       "      <th>claps</th>\n",
       "      <th>comments_count</th>\n",
       "      <th>full_article_text</th>\n",
       "      <th>read_time</th>\n",
       "      <th>type</th>\n",
       "      <th>num_images</th>\n",
       "      <th>tags</th>\n",
       "    </tr>\n",
       "    <tr>\n",
       "      <th>id</th>\n",
       "      <th></th>\n",
       "      <th></th>\n",
       "      <th></th>\n",
       "      <th></th>\n",
       "      <th></th>\n",
       "      <th></th>\n",
       "      <th></th>\n",
       "      <th></th>\n",
       "      <th></th>\n",
       "      <th></th>\n",
       "      <th></th>\n",
       "      <th></th>\n",
       "      <th></th>\n",
       "      <th></th>\n",
       "      <th></th>\n",
       "      <th></th>\n",
       "    </tr>\n",
       "  </thead>\n",
       "  <tbody>\n",
       "    <tr>\n",
       "      <th>2</th>\n",
       "      <td>29571399</td>\n",
       "      <td>Hexagonal Architecture with Dotnet 6 — Part 2:...</td>\n",
       "      <td>2</td>\n",
       "      <td>2022-10-06 05:03:47.821</td>\n",
       "      <td>2022-10-09 05:59:49.460</td>\n",
       "      <td>2022-10-06 05:03:47.821</td>\n",
       "      <td>We go to Visual Studio and click “Create a new...</td>\n",
       "      <td>Organization</td>\n",
       "      <td>True</td>\n",
       "      <td>3</td>\n",
       "      <td>0</td>\n",
       "      <td>We go to Visual Studio and click “Create a new...</td>\n",
       "      <td>2</td>\n",
       "      <td>NewsArticle</td>\n",
       "      <td>2</td>\n",
       "      <td>[Dotnet, Hexagonal Architecture, Cqrs, Ddd]</td>\n",
       "    </tr>\n",
       "    <tr>\n",
       "      <th>4</th>\n",
       "      <td>29571469</td>\n",
       "      <td>Why Scotland’s Muslim Women Should be Followin...</td>\n",
       "      <td>6</td>\n",
       "      <td>2022-10-06 23:44:10.874</td>\n",
       "      <td>2022-10-07 00:53:47.320</td>\n",
       "      <td>2022-10-06 23:44:10.874</td>\n",
       "      <td>Picture this: It is 11pm and you stop at a ser...</td>\n",
       "      <td>Organization</td>\n",
       "      <td>True</td>\n",
       "      <td>50</td>\n",
       "      <td>1</td>\n",
       "      <td>And how to do it…\\n\\n![](https://miro.medium.c...</td>\n",
       "      <td>5</td>\n",
       "      <td>NewsArticle</td>\n",
       "      <td>3</td>\n",
       "      <td>[Gender, Transgender, Scotland, Law, Muslim]</td>\n",
       "    </tr>\n",
       "    <tr>\n",
       "      <th>5</th>\n",
       "      <td>29571486</td>\n",
       "      <td>Mongodb Relational Documents with Node.js and ...</td>\n",
       "      <td>8</td>\n",
       "      <td>2022-10-06 06:07:42.984</td>\n",
       "      <td>2022-10-09 10:10:56.185</td>\n",
       "      <td>2022-10-06 06:07:42.984</td>\n",
       "      <td>As a beginner many people are confused on how ...</td>\n",
       "      <td>Organization</td>\n",
       "      <td>True</td>\n",
       "      <td>2</td>\n",
       "      <td>0</td>\n",
       "      <td>![](https://miro.medium.com/v2/resize:fit:1400...</td>\n",
       "      <td>5</td>\n",
       "      <td>NewsArticle</td>\n",
       "      <td>9</td>\n",
       "      <td>[Mongodb, Mongoose, Database, Nodejs, Mongodb ...</td>\n",
       "    </tr>\n",
       "    <tr>\n",
       "      <th>6</th>\n",
       "      <td>29571441</td>\n",
       "      <td>Morpheus.Network Kickstarts KYC For Beta Maste...</td>\n",
       "      <td>9</td>\n",
       "      <td>2022-10-06 20:59:22.106</td>\n",
       "      <td>2024-02-20 21:25:06.545</td>\n",
       "      <td>2022-10-06 20:59:22.106</td>\n",
       "      <td>We’re thrilled to announce that the first stag...</td>\n",
       "      <td>Organization</td>\n",
       "      <td>True</td>\n",
       "      <td>410</td>\n",
       "      <td>2</td>\n",
       "      <td>![](https://miro.medium.com/v2/resize:fit:700/...</td>\n",
       "      <td>5</td>\n",
       "      <td>NewsArticle</td>\n",
       "      <td>6</td>\n",
       "      <td>[]</td>\n",
       "    </tr>\n",
       "    <tr>\n",
       "      <th>7</th>\n",
       "      <td>29571501</td>\n",
       "      <td>Why Having an Affair is Easy Until It Isn’t - ...</td>\n",
       "      <td>12</td>\n",
       "      <td>2022-10-06 07:12:37.354</td>\n",
       "      <td>2024-01-08 20:40:38.553</td>\n",
       "      <td>2022-10-06 07:12:37.354</td>\n",
       "      <td>When you get married you make covenants and vo...</td>\n",
       "      <td>Organization</td>\n",
       "      <td>True</td>\n",
       "      <td>142</td>\n",
       "      <td>1</td>\n",
       "      <td>![](https://miro.medium.com/v2/1*jE2H3k-Lk49Do...</td>\n",
       "      <td>7</td>\n",
       "      <td>NewsArticle</td>\n",
       "      <td>3</td>\n",
       "      <td>[Infidelity, Love, Marriage, Divorce, Mental H...</td>\n",
       "    </tr>\n",
       "  </tbody>\n",
       "</table>\n",
       "</div>"
      ],
      "text/plain": [
       "      url_id                                              title  author_id  \\\n",
       "id                                                                           \n",
       "2   29571399  Hexagonal Architecture with Dotnet 6 — Part 2:...          2   \n",
       "4   29571469  Why Scotland’s Muslim Women Should be Followin...          6   \n",
       "5   29571486  Mongodb Relational Documents with Node.js and ...          8   \n",
       "6   29571441  Morpheus.Network Kickstarts KYC For Beta Maste...          9   \n",
       "7   29571501  Why Having an Affair is Easy Until It Isn’t - ...         12   \n",
       "\n",
       "            date_published           date_modified            date_created  \\\n",
       "id                                                                           \n",
       "2  2022-10-06 05:03:47.821 2022-10-09 05:59:49.460 2022-10-06 05:03:47.821   \n",
       "4  2022-10-06 23:44:10.874 2022-10-07 00:53:47.320 2022-10-06 23:44:10.874   \n",
       "5  2022-10-06 06:07:42.984 2022-10-09 10:10:56.185 2022-10-06 06:07:42.984   \n",
       "6  2022-10-06 20:59:22.106 2024-02-20 21:25:06.545 2022-10-06 20:59:22.106   \n",
       "7  2022-10-06 07:12:37.354 2024-01-08 20:40:38.553 2022-10-06 07:12:37.354   \n",
       "\n",
       "                                          description publisher_type  is_free  \\\n",
       "id                                                                              \n",
       "2   We go to Visual Studio and click “Create a new...   Organization     True   \n",
       "4   Picture this: It is 11pm and you stop at a ser...   Organization     True   \n",
       "5   As a beginner many people are confused on how ...   Organization     True   \n",
       "6   We’re thrilled to announce that the first stag...   Organization     True   \n",
       "7   When you get married you make covenants and vo...   Organization     True   \n",
       "\n",
       "    claps  comments_count                                  full_article_text  \\\n",
       "id                                                                             \n",
       "2       3               0  We go to Visual Studio and click “Create a new...   \n",
       "4      50               1  And how to do it…\\n\\n![](https://miro.medium.c...   \n",
       "5       2               0  ![](https://miro.medium.com/v2/resize:fit:1400...   \n",
       "6     410               2  ![](https://miro.medium.com/v2/resize:fit:700/...   \n",
       "7     142               1  ![](https://miro.medium.com/v2/1*jE2H3k-Lk49Do...   \n",
       "\n",
       "    read_time         type  num_images  \\\n",
       "id                                       \n",
       "2           2  NewsArticle           2   \n",
       "4           5  NewsArticle           3   \n",
       "5           5  NewsArticle           9   \n",
       "6           5  NewsArticle           6   \n",
       "7           7  NewsArticle           3   \n",
       "\n",
       "                                                 tags  \n",
       "id                                                     \n",
       "2         [Dotnet, Hexagonal Architecture, Cqrs, Ddd]  \n",
       "4        [Gender, Transgender, Scotland, Law, Muslim]  \n",
       "5   [Mongodb, Mongoose, Database, Nodejs, Mongodb ...  \n",
       "6                                                  []  \n",
       "7   [Infidelity, Love, Marriage, Divorce, Mental H...  "
      ]
     },
     "execution_count": 88,
     "metadata": {},
     "output_type": "execute_result"
    }
   ],
   "source": [
    "# to pandas\n",
    "df = pd.read_sql_query(\n",
    "    get_session().query(MediumArticle).statement,\n",
    "    get_session().bind,\n",
    "    index_col=\"id\",\n",
    ")\n",
    "df.head()"
   ]
  },
  {
   "cell_type": "code",
   "execution_count": 89,
   "id": "af624b0c",
   "metadata": {},
   "outputs": [
    {
     "data": {
      "image/png": "[encoded data removed]",
      "text/plain": [
       "<Figure size 1000x400 with 1 Axes>"
      ]
     },
     "metadata": {},
     "output_type": "display_data"
    }
   ],
   "source": [
    "# Create a new Series with the number of tags per article\n",
    "tag_counts = df[\"tags\"].apply(len)\n",
    "\n",
    "# Calculate percentages for each count\n",
    "total_articles = len(df)\n",
    "value_counts = tag_counts.value_counts()\n",
    "percentages = (value_counts / total_articles) * 100\n",
    "\n",
    "# Create a seaborn plot to show tag count distribution\n",
    "plt.figure(figsize=(10, 4))\n",
    "\n",
    "# Fix the countplot with proper parameter usage\n",
    "ax = sns.countplot(x=tag_counts, hue=tag_counts, palette=\"pastel\", legend=False)\n",
    "ax.set_title(\"Number of tags per article\", fontsize=16)\n",
    "ax.set_xlabel(\"Number of tags\", fontsize=12)\n",
    "ax.set_ylabel(\"Number of articles\", fontsize=12)\n",
    "\n",
    "# Add percentage labels on top of each bar\n",
    "for p in ax.patches:\n",
    "    height = p.get_height()\n",
    "    percentage = (height / total_articles) * 100\n",
    "    ax.annotate(f'{percentage:.1f}%', \n",
    "                (p.get_x() + p.get_width()/2., height), \n",
    "                ha='center', va='bottom')\n",
    "\n",
    "# Fix y-axis ticks to show percentages properly\n",
    "y_ticks = ax.get_yticks()\n",
    "ax.set_yticks(y_ticks)  # First set the tick positions\n",
    "ax.set_yticklabels([f'{(y/total_articles)*100:.1f}%' for y in y_ticks])\n",
    "\n",
    "# Improve readability of labels\n",
    "sns.despine()\n",
    "plt.tight_layout()\n",
    "plt.show()"
   ]
  },
  {
   "cell_type": "markdown",
   "id": "33d43a37",
   "metadata": {},
   "source": [
    "From now on we only consider those articles with at least one tag."
   ]
  },
  {
   "cell_type": "code",
   "execution_count": 90,
   "id": "af058c1e",
   "metadata": {},
   "outputs": [
    {
     "data": {
      "text/plain": [
       "(900, 16)"
      ]
     },
     "execution_count": 90,
     "metadata": {},
     "output_type": "execute_result"
    }
   ],
   "source": [
    "# delete all articles without tags\n",
    "df = df[df[\"tags\"].apply(len) > 0]\n",
    "df.shape"
   ]
  },
  {
   "cell_type": "code",
   "execution_count": 91,
   "id": "b10b94f2",
   "metadata": {},
   "outputs": [
    {
     "data": {
      "text/html": [
       "<div>\n",
       "<style scoped>\n",
       "    .dataframe tbody tr th:only-of-type {\n",
       "        vertical-align: middle;\n",
       "    }\n",
       "\n",
       "    .dataframe tbody tr th {\n",
       "        vertical-align: top;\n",
       "    }\n",
       "\n",
       "    .dataframe thead th {\n",
       "        text-align: right;\n",
       "    }\n",
       "</style>\n",
       "<table border=\"1\" class=\"dataframe\">\n",
       "  <thead>\n",
       "    <tr style=\"text-align: right;\">\n",
       "      <th></th>\n",
       "      <th>url_id</th>\n",
       "      <th>title</th>\n",
       "      <th>author_id</th>\n",
       "      <th>date_published</th>\n",
       "      <th>date_modified</th>\n",
       "      <th>date_created</th>\n",
       "      <th>description</th>\n",
       "      <th>publisher_type</th>\n",
       "      <th>is_free</th>\n",
       "      <th>claps</th>\n",
       "      <th>comments_count</th>\n",
       "      <th>full_article_text</th>\n",
       "      <th>read_time</th>\n",
       "      <th>type</th>\n",
       "      <th>num_images</th>\n",
       "      <th>tags</th>\n",
       "    </tr>\n",
       "    <tr>\n",
       "      <th>id</th>\n",
       "      <th></th>\n",
       "      <th></th>\n",
       "      <th></th>\n",
       "      <th></th>\n",
       "      <th></th>\n",
       "      <th></th>\n",
       "      <th></th>\n",
       "      <th></th>\n",
       "      <th></th>\n",
       "      <th></th>\n",
       "      <th></th>\n",
       "      <th></th>\n",
       "      <th></th>\n",
       "      <th></th>\n",
       "      <th></th>\n",
       "      <th></th>\n",
       "    </tr>\n",
       "  </thead>\n",
       "  <tbody>\n",
       "    <tr>\n",
       "      <th>2</th>\n",
       "      <td>29571399</td>\n",
       "      <td>Hexagonal Architecture with Dotnet 6 — Part 2:...</td>\n",
       "      <td>2</td>\n",
       "      <td>2022-10-06 05:03:47.821</td>\n",
       "      <td>2022-10-09 05:59:49.460</td>\n",
       "      <td>2022-10-06 05:03:47.821</td>\n",
       "      <td>We go to Visual Studio and click “Create a new...</td>\n",
       "      <td>Organization</td>\n",
       "      <td>True</td>\n",
       "      <td>3</td>\n",
       "      <td>0</td>\n",
       "      <td>We go to Visual Studio and click “Create a new...</td>\n",
       "      <td>2</td>\n",
       "      <td>NewsArticle</td>\n",
       "      <td>2</td>\n",
       "      <td>[Dotnet, Hexagonal Architecture, Cqrs, Ddd]</td>\n",
       "    </tr>\n",
       "    <tr>\n",
       "      <th>4</th>\n",
       "      <td>29571469</td>\n",
       "      <td>Why Scotland’s Muslim Women Should be Followin...</td>\n",
       "      <td>6</td>\n",
       "      <td>2022-10-06 23:44:10.874</td>\n",
       "      <td>2022-10-07 00:53:47.320</td>\n",
       "      <td>2022-10-06 23:44:10.874</td>\n",
       "      <td>Picture this: It is 11pm and you stop at a ser...</td>\n",
       "      <td>Organization</td>\n",
       "      <td>True</td>\n",
       "      <td>50</td>\n",
       "      <td>1</td>\n",
       "      <td>And how to do it…\\n\\n![](https://miro.medium.c...</td>\n",
       "      <td>5</td>\n",
       "      <td>NewsArticle</td>\n",
       "      <td>3</td>\n",
       "      <td>[Gender, Transgender, Scotland, Law, Muslim]</td>\n",
       "    </tr>\n",
       "    <tr>\n",
       "      <th>5</th>\n",
       "      <td>29571486</td>\n",
       "      <td>Mongodb Relational Documents with Node.js and ...</td>\n",
       "      <td>8</td>\n",
       "      <td>2022-10-06 06:07:42.984</td>\n",
       "      <td>2022-10-09 10:10:56.185</td>\n",
       "      <td>2022-10-06 06:07:42.984</td>\n",
       "      <td>As a beginner many people are confused on how ...</td>\n",
       "      <td>Organization</td>\n",
       "      <td>True</td>\n",
       "      <td>2</td>\n",
       "      <td>0</td>\n",
       "      <td>![](https://miro.medium.com/v2/resize:fit:1400...</td>\n",
       "      <td>5</td>\n",
       "      <td>NewsArticle</td>\n",
       "      <td>9</td>\n",
       "      <td>[Mongodb, Mongoose, Database, Nodejs, Mongodb ...</td>\n",
       "    </tr>\n",
       "    <tr>\n",
       "      <th>7</th>\n",
       "      <td>29571501</td>\n",
       "      <td>Why Having an Affair is Easy Until It Isn’t - ...</td>\n",
       "      <td>12</td>\n",
       "      <td>2022-10-06 07:12:37.354</td>\n",
       "      <td>2024-01-08 20:40:38.553</td>\n",
       "      <td>2022-10-06 07:12:37.354</td>\n",
       "      <td>When you get married you make covenants and vo...</td>\n",
       "      <td>Organization</td>\n",
       "      <td>True</td>\n",
       "      <td>142</td>\n",
       "      <td>1</td>\n",
       "      <td>![](https://miro.medium.com/v2/1*jE2H3k-Lk49Do...</td>\n",
       "      <td>7</td>\n",
       "      <td>NewsArticle</td>\n",
       "      <td>3</td>\n",
       "      <td>[Infidelity, Love, Marriage, Divorce, Mental H...</td>\n",
       "    </tr>\n",
       "    <tr>\n",
       "      <th>11</th>\n",
       "      <td>29571511</td>\n",
       "      <td>Building responsive Flutter desktop and web ap...</td>\n",
       "      <td>31</td>\n",
       "      <td>2022-10-06 00:12:53.310</td>\n",
       "      <td>2022-12-08 12:06:54.192</td>\n",
       "      <td>2022-10-06 00:12:53.310</td>\n",
       "      <td>Flutter has grown over the years. compared wit...</td>\n",
       "      <td>Organization</td>\n",
       "      <td>True</td>\n",
       "      <td>64</td>\n",
       "      <td>2</td>\n",
       "      <td>![](https://miro.medium.com/v2/resize:fit:1400...</td>\n",
       "      <td>3</td>\n",
       "      <td>NewsArticle</td>\n",
       "      <td>3</td>\n",
       "      <td>[Flutter, Responsive Design, Desktop, Web]</td>\n",
       "    </tr>\n",
       "  </tbody>\n",
       "</table>\n",
       "</div>"
      ],
      "text/plain": [
       "      url_id                                              title  author_id  \\\n",
       "id                                                                           \n",
       "2   29571399  Hexagonal Architecture with Dotnet 6 — Part 2:...          2   \n",
       "4   29571469  Why Scotland’s Muslim Women Should be Followin...          6   \n",
       "5   29571486  Mongodb Relational Documents with Node.js and ...          8   \n",
       "7   29571501  Why Having an Affair is Easy Until It Isn’t - ...         12   \n",
       "11  29571511  Building responsive Flutter desktop and web ap...         31   \n",
       "\n",
       "            date_published           date_modified            date_created  \\\n",
       "id                                                                           \n",
       "2  2022-10-06 05:03:47.821 2022-10-09 05:59:49.460 2022-10-06 05:03:47.821   \n",
       "4  2022-10-06 23:44:10.874 2022-10-07 00:53:47.320 2022-10-06 23:44:10.874   \n",
       "5  2022-10-06 06:07:42.984 2022-10-09 10:10:56.185 2022-10-06 06:07:42.984   \n",
       "7  2022-10-06 07:12:37.354 2024-01-08 20:40:38.553 2022-10-06 07:12:37.354   \n",
       "11 2022-10-06 00:12:53.310 2022-12-08 12:06:54.192 2022-10-06 00:12:53.310   \n",
       "\n",
       "                                          description publisher_type  is_free  \\\n",
       "id                                                                              \n",
       "2   We go to Visual Studio and click “Create a new...   Organization     True   \n",
       "4   Picture this: It is 11pm and you stop at a ser...   Organization     True   \n",
       "5   As a beginner many people are confused on how ...   Organization     True   \n",
       "7   When you get married you make covenants and vo...   Organization     True   \n",
       "11  Flutter has grown over the years. compared wit...   Organization     True   \n",
       "\n",
       "    claps  comments_count                                  full_article_text  \\\n",
       "id                                                                             \n",
       "2       3               0  We go to Visual Studio and click “Create a new...   \n",
       "4      50               1  And how to do it…\\n\\n![](https://miro.medium.c...   \n",
       "5       2               0  ![](https://miro.medium.com/v2/resize:fit:1400...   \n",
       "7     142               1  ![](https://miro.medium.com/v2/1*jE2H3k-Lk49Do...   \n",
       "11     64               2  ![](https://miro.medium.com/v2/resize:fit:1400...   \n",
       "\n",
       "    read_time         type  num_images  \\\n",
       "id                                       \n",
       "2           2  NewsArticle           2   \n",
       "4           5  NewsArticle           3   \n",
       "5           5  NewsArticle           9   \n",
       "7           7  NewsArticle           3   \n",
       "11          3  NewsArticle           3   \n",
       "\n",
       "                                                 tags  \n",
       "id                                                     \n",
       "2         [Dotnet, Hexagonal Architecture, Cqrs, Ddd]  \n",
       "4        [Gender, Transgender, Scotland, Law, Muslim]  \n",
       "5   [Mongodb, Mongoose, Database, Nodejs, Mongodb ...  \n",
       "7   [Infidelity, Love, Marriage, Divorce, Mental H...  \n",
       "11         [Flutter, Responsive Design, Desktop, Web]  "
      ]
     },
     "execution_count": 91,
     "metadata": {},
     "output_type": "execute_result"
    }
   ],
   "source": [
    "df.head()"
   ]
  },
  {
   "cell_type": "code",
   "execution_count": 92,
   "id": "f67ecfaa",
   "metadata": {},
   "outputs": [
    {
     "data": {
      "image/png": "[encoded data removed]",
      "text/plain": [
       "<Figure size 800x500 with 1 Axes>"
      ]
     },
     "metadata": {},
     "output_type": "display_data"
    }
   ],
   "source": [
    "# Count free vs premium articles\n",
    "free_premium_counts = df['is_free'].value_counts()\n",
    "free_premium_percentages = (free_premium_counts / len(df)) * 100\n",
    "\n",
    "# Create figure\n",
    "plt.figure(figsize=(8, 5))\n",
    "\n",
    "# Create bar plot with proper hue parameter to avoid the warning\n",
    "ax = sns.countplot(x='is_free', hue='is_free', data=df, palette=[\"#ff6b6b\", \"#4ecdc4\"], legend=False)\n",
    "ax.set_title(\"Free vs Premium Articles\", fontsize=16)\n",
    "ax.set_xlabel(\"Article Type\", fontsize=12)\n",
    "ax.set_ylabel(\"Number of Articles\", fontsize=12)\n",
    "\n",
    "# Set more readable x-axis labels\n",
    "ax.set_xticks([0, 1])  # Set the tick positions\n",
    "ax.set_xticklabels(['Premium', 'Free'])\n",
    "\n",
    "# Add percentage labels on top of each bar\n",
    "for p in ax.patches:\n",
    "    height = p.get_height()\n",
    "    percentage = (height / len(df)) * 100\n",
    "    ax.annotate(f'{percentage:.1f}%', \n",
    "                (p.get_x() + p.get_width()/2., height), \n",
    "                ha='center', va='bottom')\n",
    "\n",
    "# Improve readability of labels\n",
    "sns.despine()\n",
    "plt.tight_layout()\n",
    "plt.show()"
   ]
  },
  {
   "cell_type": "markdown",
   "id": "86fc625a",
   "metadata": {},
   "source": [
    "## Preprocessing"
   ]
  },
  {
   "cell_type": "code",
   "execution_count": 165,
   "id": "246ff4ac",
   "metadata": {},
   "outputs": [],
   "source": [
    "import markdown\n",
    "from IPython.display import display, HTML\n",
    "from bs4 import BeautifulSoup\n",
    "\n",
    "def markdown_to_plain_text(md_text):\n",
    "    html = markdown.markdown(md_text)\n",
    "    soup = BeautifulSoup(html, \"html.parser\")\n",
    "    return soup.get_text()\n",
    "\n",
    "df[\"full_article_text\"] = df[\"full_article_text\"].apply(markdown_to_plain_text)"
   ]
  },
  {
   "cell_type": "code",
   "execution_count": 166,
   "id": "532f8322",
   "metadata": {},
   "outputs": [],
   "source": [
    "from fast_langdetect import detect, detect_multilingual, LangDetector, LangDetectConfig, DetectError\n",
    "\n",
    "# Initialize the language detector\n",
    "config = LangDetectConfig()\n",
    "detector = LangDetector(config)\n",
    "langs = []\n",
    "# Detect the language of the first 10 articles\n",
    "for article in df[\"full_article_text\"]:\n",
    "    try:\n",
    "        lang = detector.detect(article[:100].replace(\"\\n\", \" \"))\n",
    "        langs.append(lang[\"lang\"])\n",
    "    except DetectError as e:\n",
    "        print(f\"Error detecting language: {e}\")\n",
    "\n",
    "df[\"language\"] = langs"
   ]
  },
  {
   "cell_type": "code",
   "execution_count": 187,
   "id": "597cb00c",
   "metadata": {},
   "outputs": [
    {
     "data": {
      "text/plain": [
       "(837, 21)"
      ]
     },
     "execution_count": 187,
     "metadata": {},
     "output_type": "execute_result"
    }
   ],
   "source": [
    "# filter for english articles\n",
    "df = df[df[\"language\"] == \"en\"]\n",
    "df.shape"
   ]
  },
  {
   "cell_type": "code",
   "execution_count": null,
   "id": "40ab4a87",
   "metadata": {},
   "outputs": [
    {
     "data": {
      "text/html": [
       "<div>\n",
       "<style scoped>\n",
       "    .dataframe tbody tr th:only-of-type {\n",
       "        vertical-align: middle;\n",
       "    }\n",
       "\n",
       "    .dataframe tbody tr th {\n",
       "        vertical-align: top;\n",
       "    }\n",
       "\n",
       "    .dataframe thead th {\n",
       "        text-align: right;\n",
       "    }\n",
       "</style>\n",
       "<table border=\"1\" class=\"dataframe\">\n",
       "  <thead>\n",
       "    <tr style=\"text-align: right;\">\n",
       "      <th></th>\n",
       "      <th>full_article_text</th>\n",
       "      <th>processed_text</th>\n",
       "    </tr>\n",
       "    <tr>\n",
       "      <th>id</th>\n",
       "      <th></th>\n",
       "      <th></th>\n",
       "    </tr>\n",
       "  </thead>\n",
       "  <tbody>\n",
       "    <tr>\n",
       "      <th>2</th>\n",
       "      <td>We go to Visual Studio and click “Create a new...</td>\n",
       "      <td>Visual Studio click create new project select ...</td>\n",
       "    </tr>\n",
       "    <tr>\n",
       "      <th>4</th>\n",
       "      <td>And how to do it…\\nPicture this: It is 11pm an...</td>\n",
       "      <td>\\n picture 11 pm stop service station Scottish...</td>\n",
       "    </tr>\n",
       "    <tr>\n",
       "      <th>5</th>\n",
       "      <td>As a beginner many people are confused on how ...</td>\n",
       "      <td>beginner people confuse relate document Mongod...</td>\n",
       "    </tr>\n",
       "    <tr>\n",
       "      <th>7</th>\n",
       "      <td>When you get married you make covenants and vo...</td>\n",
       "      <td>marry covenant vow spouse honor support commit...</td>\n",
       "    </tr>\n",
       "    <tr>\n",
       "      <th>11</th>\n",
       "      <td>Flutter has grown over the years. compared wit...</td>\n",
       "      <td>flutter grow year compare version 1.0 realise ...</td>\n",
       "    </tr>\n",
       "  </tbody>\n",
       "</table>\n",
       "</div>"
      ],
      "text/plain": [
       "                                    full_article_text  \\\n",
       "id                                                      \n",
       "2   We go to Visual Studio and click “Create a new...   \n",
       "4   And how to do it…\\nPicture this: It is 11pm an...   \n",
       "5   As a beginner many people are confused on how ...   \n",
       "7   When you get married you make covenants and vo...   \n",
       "11  Flutter has grown over the years. compared wit...   \n",
       "\n",
       "                                       processed_text  \n",
       "id                                                     \n",
       "2   Visual Studio click create new project select ...  \n",
       "4   \\n picture 11 pm stop service station Scottish...  \n",
       "5   beginner people confuse relate document Mongod...  \n",
       "7   marry covenant vow spouse honor support commit...  \n",
       "11  flutter grow year compare version 1.0 realise ...  "
      ]
     },
     "execution_count": 179,
     "metadata": {},
     "output_type": "execute_result"
    }
   ],
   "source": [
    "# preprocess the text\n",
    "import spacy\n",
    "\n",
    "# spacy.cli.download(\"en_core_web_sm\")\n",
    "\n",
    "# TODO multi lang\n",
    "nlp = spacy.load(\"en_core_web_sm\")\n",
    "def preprocess_text(text):\n",
    "    doc = nlp(text)\n",
    "    tokens = [token.lemma_ for token in doc if not token.is_stop and not token.is_punct]\n",
    "    return ' '.join(tokens)\n",
    "\n",
    "# Apply preprocessing to the full article text\n",
    "df['processed_text'] = df['full_article_text'].apply(preprocess_text)\n",
    "df[['full_article_text', 'processed_text']].head(5)"
   ]
  },
  {
   "cell_type": "code",
   "execution_count": 167,
   "id": "09a42f33",
   "metadata": {},
   "outputs": [],
   "source": [
    "tags = df[\"tags\"].apply(lambda x: [tag.lower() for tag in x])"
   ]
  },
  {
   "cell_type": "code",
   "execution_count": 168,
   "id": "3f10ec6f",
   "metadata": {},
   "outputs": [
    {
     "data": {
      "text/html": [
       "<div>\n",
       "<style scoped>\n",
       "    .dataframe tbody tr th:only-of-type {\n",
       "        vertical-align: middle;\n",
       "    }\n",
       "\n",
       "    .dataframe tbody tr th {\n",
       "        vertical-align: top;\n",
       "    }\n",
       "\n",
       "    .dataframe thead th {\n",
       "        text-align: right;\n",
       "    }\n",
       "</style>\n",
       "<table border=\"1\" class=\"dataframe\">\n",
       "  <thead>\n",
       "    <tr style=\"text-align: right;\">\n",
       "      <th></th>\n",
       "      <th>url_id</th>\n",
       "      <th>title</th>\n",
       "      <th>author_id</th>\n",
       "      <th>date_published</th>\n",
       "      <th>date_modified</th>\n",
       "      <th>date_created</th>\n",
       "      <th>description</th>\n",
       "      <th>publisher_type</th>\n",
       "      <th>is_free</th>\n",
       "      <th>claps</th>\n",
       "      <th>comments_count</th>\n",
       "      <th>full_article_text</th>\n",
       "      <th>read_time</th>\n",
       "      <th>type</th>\n",
       "      <th>num_images</th>\n",
       "      <th>tags</th>\n",
       "      <th>differences</th>\n",
       "      <th>article_embeddings</th>\n",
       "      <th>tag_embeddings</th>\n",
       "      <th>language</th>\n",
       "    </tr>\n",
       "    <tr>\n",
       "      <th>id</th>\n",
       "      <th></th>\n",
       "      <th></th>\n",
       "      <th></th>\n",
       "      <th></th>\n",
       "      <th></th>\n",
       "      <th></th>\n",
       "      <th></th>\n",
       "      <th></th>\n",
       "      <th></th>\n",
       "      <th></th>\n",
       "      <th></th>\n",
       "      <th></th>\n",
       "      <th></th>\n",
       "      <th></th>\n",
       "      <th></th>\n",
       "      <th></th>\n",
       "      <th></th>\n",
       "      <th></th>\n",
       "      <th></th>\n",
       "      <th></th>\n",
       "    </tr>\n",
       "  </thead>\n",
       "  <tbody>\n",
       "    <tr>\n",
       "      <th>2</th>\n",
       "      <td>29571399</td>\n",
       "      <td>Hexagonal Architecture with Dotnet 6 — Part 2:...</td>\n",
       "      <td>2</td>\n",
       "      <td>2022-10-06 05:03:47.821</td>\n",
       "      <td>2022-10-09 05:59:49.460</td>\n",
       "      <td>2022-10-06 05:03:47.821</td>\n",
       "      <td>We go to Visual Studio and click “Create a new...</td>\n",
       "      <td>Organization</td>\n",
       "      <td>True</td>\n",
       "      <td>3</td>\n",
       "      <td>0</td>\n",
       "      <td>We go to Visual Studio and click “Create a new...</td>\n",
       "      <td>2</td>\n",
       "      <td>NewsArticle</td>\n",
       "      <td>2</td>\n",
       "      <td>[Dotnet, Hexagonal Architecture, Cqrs, Ddd]</td>\n",
       "      <td>11.703608</td>\n",
       "      <td>[[-0.060173586, -0.28805315, 0.42061427, 0.184...</td>\n",
       "      <td>[[0.11027783, -0.44333944, 0.29028797, 0.18794...</td>\n",
       "      <td>en</td>\n",
       "    </tr>\n",
       "    <tr>\n",
       "      <th>4</th>\n",
       "      <td>29571469</td>\n",
       "      <td>Why Scotland’s Muslim Women Should be Followin...</td>\n",
       "      <td>6</td>\n",
       "      <td>2022-10-06 23:44:10.874</td>\n",
       "      <td>2022-10-07 00:53:47.320</td>\n",
       "      <td>2022-10-06 23:44:10.874</td>\n",
       "      <td>Picture this: It is 11pm and you stop at a ser...</td>\n",
       "      <td>Organization</td>\n",
       "      <td>True</td>\n",
       "      <td>50</td>\n",
       "      <td>1</td>\n",
       "      <td>And how to do it…\\nPicture this: It is 11pm an...</td>\n",
       "      <td>5</td>\n",
       "      <td>NewsArticle</td>\n",
       "      <td>3</td>\n",
       "      <td>[Gender, Transgender, Scotland, Law, Muslim]</td>\n",
       "      <td>13.853088</td>\n",
       "      <td>[[0.15967774, -0.53129274, 0.37580797, 0.27690...</td>\n",
       "      <td>[[0.2353435, 0.08997397, 0.89488, -0.1541188, ...</td>\n",
       "      <td>en</td>\n",
       "    </tr>\n",
       "    <tr>\n",
       "      <th>5</th>\n",
       "      <td>29571486</td>\n",
       "      <td>Mongodb Relational Documents with Node.js and ...</td>\n",
       "      <td>8</td>\n",
       "      <td>2022-10-06 06:07:42.984</td>\n",
       "      <td>2022-10-09 10:10:56.185</td>\n",
       "      <td>2022-10-06 06:07:42.984</td>\n",
       "      <td>As a beginner many people are confused on how ...</td>\n",
       "      <td>Organization</td>\n",
       "      <td>True</td>\n",
       "      <td>2</td>\n",
       "      <td>0</td>\n",
       "      <td>As a beginner many people are confused on how ...</td>\n",
       "      <td>5</td>\n",
       "      <td>NewsArticle</td>\n",
       "      <td>9</td>\n",
       "      <td>[Mongodb, Mongoose, Database, Nodejs, Mongodb ...</td>\n",
       "      <td>11.717603</td>\n",
       "      <td>[[0.017702997, -0.45742273, 0.5035426, 0.12274...</td>\n",
       "      <td>[[-0.012821538, -0.7352127, 0.7772431, 0.18934...</td>\n",
       "      <td>en</td>\n",
       "    </tr>\n",
       "    <tr>\n",
       "      <th>7</th>\n",
       "      <td>29571501</td>\n",
       "      <td>Why Having an Affair is Easy Until It Isn’t - ...</td>\n",
       "      <td>12</td>\n",
       "      <td>2022-10-06 07:12:37.354</td>\n",
       "      <td>2024-01-08 20:40:38.553</td>\n",
       "      <td>2022-10-06 07:12:37.354</td>\n",
       "      <td>When you get married you make covenants and vo...</td>\n",
       "      <td>Organization</td>\n",
       "      <td>True</td>\n",
       "      <td>142</td>\n",
       "      <td>1</td>\n",
       "      <td>When you get married you make covenants and vo...</td>\n",
       "      <td>7</td>\n",
       "      <td>NewsArticle</td>\n",
       "      <td>3</td>\n",
       "      <td>[Infidelity, Love, Marriage, Divorce, Mental H...</td>\n",
       "      <td>12.600446</td>\n",
       "      <td>[[0.06549599, -0.58549994, 0.5335225, -0.00829...</td>\n",
       "      <td>[[0.18052152, -0.49806666, 0.50039536, -0.3814...</td>\n",
       "      <td>en</td>\n",
       "    </tr>\n",
       "    <tr>\n",
       "      <th>11</th>\n",
       "      <td>29571511</td>\n",
       "      <td>Building responsive Flutter desktop and web ap...</td>\n",
       "      <td>31</td>\n",
       "      <td>2022-10-06 00:12:53.310</td>\n",
       "      <td>2022-12-08 12:06:54.192</td>\n",
       "      <td>2022-10-06 00:12:53.310</td>\n",
       "      <td>Flutter has grown over the years. compared wit...</td>\n",
       "      <td>Organization</td>\n",
       "      <td>True</td>\n",
       "      <td>64</td>\n",
       "      <td>2</td>\n",
       "      <td>Flutter has grown over the years. compared wit...</td>\n",
       "      <td>3</td>\n",
       "      <td>NewsArticle</td>\n",
       "      <td>3</td>\n",
       "      <td>[Flutter, Responsive Design, Desktop, Web]</td>\n",
       "      <td>13.053739</td>\n",
       "      <td>[[-0.038229823, -0.35069737, 0.4500929, 0.2914...</td>\n",
       "      <td>[[0.61765397, -0.8602877, 0.12674096, 0.030992...</td>\n",
       "      <td>en</td>\n",
       "    </tr>\n",
       "  </tbody>\n",
       "</table>\n",
       "</div>"
      ],
      "text/plain": [
       "      url_id                                              title  author_id  \\\n",
       "id                                                                           \n",
       "2   29571399  Hexagonal Architecture with Dotnet 6 — Part 2:...          2   \n",
       "4   29571469  Why Scotland’s Muslim Women Should be Followin...          6   \n",
       "5   29571486  Mongodb Relational Documents with Node.js and ...          8   \n",
       "7   29571501  Why Having an Affair is Easy Until It Isn’t - ...         12   \n",
       "11  29571511  Building responsive Flutter desktop and web ap...         31   \n",
       "\n",
       "            date_published           date_modified            date_created  \\\n",
       "id                                                                           \n",
       "2  2022-10-06 05:03:47.821 2022-10-09 05:59:49.460 2022-10-06 05:03:47.821   \n",
       "4  2022-10-06 23:44:10.874 2022-10-07 00:53:47.320 2022-10-06 23:44:10.874   \n",
       "5  2022-10-06 06:07:42.984 2022-10-09 10:10:56.185 2022-10-06 06:07:42.984   \n",
       "7  2022-10-06 07:12:37.354 2024-01-08 20:40:38.553 2022-10-06 07:12:37.354   \n",
       "11 2022-10-06 00:12:53.310 2022-12-08 12:06:54.192 2022-10-06 00:12:53.310   \n",
       "\n",
       "                                          description publisher_type  is_free  \\\n",
       "id                                                                              \n",
       "2   We go to Visual Studio and click “Create a new...   Organization     True   \n",
       "4   Picture this: It is 11pm and you stop at a ser...   Organization     True   \n",
       "5   As a beginner many people are confused on how ...   Organization     True   \n",
       "7   When you get married you make covenants and vo...   Organization     True   \n",
       "11  Flutter has grown over the years. compared wit...   Organization     True   \n",
       "\n",
       "    claps  comments_count                                  full_article_text  \\\n",
       "id                                                                             \n",
       "2       3               0  We go to Visual Studio and click “Create a new...   \n",
       "4      50               1  And how to do it…\\nPicture this: It is 11pm an...   \n",
       "5       2               0  As a beginner many people are confused on how ...   \n",
       "7     142               1  When you get married you make covenants and vo...   \n",
       "11     64               2  Flutter has grown over the years. compared wit...   \n",
       "\n",
       "    read_time         type  num_images  \\\n",
       "id                                       \n",
       "2           2  NewsArticle           2   \n",
       "4           5  NewsArticle           3   \n",
       "5           5  NewsArticle           9   \n",
       "7           7  NewsArticle           3   \n",
       "11          3  NewsArticle           3   \n",
       "\n",
       "                                                 tags  differences  \\\n",
       "id                                                                   \n",
       "2         [Dotnet, Hexagonal Architecture, Cqrs, Ddd]    11.703608   \n",
       "4        [Gender, Transgender, Scotland, Law, Muslim]    13.853088   \n",
       "5   [Mongodb, Mongoose, Database, Nodejs, Mongodb ...    11.717603   \n",
       "7   [Infidelity, Love, Marriage, Divorce, Mental H...    12.600446   \n",
       "11         [Flutter, Responsive Design, Desktop, Web]    13.053739   \n",
       "\n",
       "                                   article_embeddings  \\\n",
       "id                                                      \n",
       "2   [[-0.060173586, -0.28805315, 0.42061427, 0.184...   \n",
       "4   [[0.15967774, -0.53129274, 0.37580797, 0.27690...   \n",
       "5   [[0.017702997, -0.45742273, 0.5035426, 0.12274...   \n",
       "7   [[0.06549599, -0.58549994, 0.5335225, -0.00829...   \n",
       "11  [[-0.038229823, -0.35069737, 0.4500929, 0.2914...   \n",
       "\n",
       "                                       tag_embeddings language  \n",
       "id                                                              \n",
       "2   [[0.11027783, -0.44333944, 0.29028797, 0.18794...       en  \n",
       "4   [[0.2353435, 0.08997397, 0.89488, -0.1541188, ...       en  \n",
       "5   [[-0.012821538, -0.7352127, 0.7772431, 0.18934...       en  \n",
       "7   [[0.18052152, -0.49806666, 0.50039536, -0.3814...       en  \n",
       "11  [[0.61765397, -0.8602877, 0.12674096, 0.030992...       en  "
      ]
     },
     "execution_count": 168,
     "metadata": {},
     "output_type": "execute_result"
    }
   ],
   "source": [
    "df.head(5)"
   ]
  },
  {
   "cell_type": "markdown",
   "id": "ae0e4281",
   "metadata": {},
   "source": [
    "## Bert text embedding vs tag embedding"
   ]
  },
  {
   "cell_type": "code",
   "execution_count": 169,
   "id": "7042ff1c",
   "metadata": {},
   "outputs": [
    {
     "data": {
      "text/plain": [
       "(4, 768)"
      ]
     },
     "execution_count": 169,
     "metadata": {},
     "output_type": "execute_result"
    }
   ],
   "source": [
    "model = BertModel.from_pretrained('bert-base-multilingual-cased')\n",
    "model = model.to(device)\n",
    "\n",
    "def get_tag_embeddings(article: MediumArticle):\n",
    "    \"\"\"\n",
    "    Get the tag embeddings for a given article.\n",
    "    \"\"\"\n",
    "    # Tokenize the tags\n",
    "    tokens = tokenizer(article.tags, padding=True, truncation=True, return_tensors=\"pt\")\n",
    "    \n",
    "    # Move tokens to device\n",
    "    tokens = {k: v.to(device) for k, v in tokens.items()}\n",
    "    \n",
    "    # Get the embeddings\n",
    "    with torch.no_grad():\n",
    "        outputs = model(**tokens)\n",
    "    \n",
    "    # Get the mean of the last hidden state and move back to CPU for numpy\n",
    "    embeddings = outputs.last_hidden_state.mean(dim=1).cpu().numpy()\n",
    "    \n",
    "    return embeddings\n",
    "\n",
    "get_tag_embeddings(df.iloc[0]).shape"
   ]
  },
  {
   "cell_type": "code",
   "execution_count": 180,
   "id": "58f752ed",
   "metadata": {},
   "outputs": [
    {
     "data": {
      "text/plain": [
       "(1, 768)"
      ]
     },
     "execution_count": 180,
     "metadata": {},
     "output_type": "execute_result"
    }
   ],
   "source": [
    "def get_article_embedding(article: MediumArticle):\n",
    "    text = article.processed_text\n",
    "    tokens = tokenizer.tokenize(text)\n",
    "    max_tokens = 510\n",
    "    if len(tokens) > max_tokens:\n",
    "        embeddings = []\n",
    "        for i in range(0, len(tokens), max_tokens):\n",
    "            chunk_tokens = tokens[i:i + max_tokens]\n",
    "            chunk_text = tokenizer.convert_tokens_to_string(chunk_tokens)\n",
    "            inputs = tokenizer(chunk_text, return_tensors=\"pt\", padding=True, truncation=True)\n",
    "            # Move inputs to device\n",
    "            inputs = {k: v.to(device) for k, v in inputs.items()}\n",
    "            \n",
    "            with torch.no_grad():\n",
    "                outputs = model(**inputs)\n",
    "            # Move back to CPU for numpy\n",
    "            chunk_embedding = outputs.last_hidden_state.mean(dim=1).cpu().numpy()\n",
    "            embeddings.append(chunk_embedding)\n",
    "        return np.mean(embeddings, axis=0)\n",
    "    else:\n",
    "        inputs = tokenizer(text, return_tensors=\"pt\", padding=True, truncation=True)\n",
    "        # Move inputs to device\n",
    "        inputs = {k: v.to(device) for k, v in inputs.items()}\n",
    "        \n",
    "        with torch.no_grad():\n",
    "            outputs = model(**inputs)\n",
    "        # Move back to CPU for numpy\n",
    "        return outputs.last_hidden_state.mean(dim=1).cpu().numpy()\n",
    "\n",
    "get_article_embedding(df.iloc[0]).shape"
   ]
  },
  {
   "cell_type": "code",
   "execution_count": 181,
   "id": "3d53385c",
   "metadata": {},
   "outputs": [
    {
     "data": {
      "text/plain": [
       "[np.float32(11.6979885),\n",
       " np.float32(12.898958),\n",
       " np.float32(12.014932),\n",
       " np.float32(13.407975)]"
      ]
     },
     "execution_count": 181,
     "metadata": {},
     "output_type": "execute_result"
    }
   ],
   "source": [
    "# calc differences between article and tags\n",
    "def calc_differences(article_embedding, tag_embeddings):\n",
    "    differences = []\n",
    "    for tag_embedding in tag_embeddings:\n",
    "        # Calculate the difference\n",
    "        diff = article_embedding - tag_embedding\n",
    "        # Calculate the norm (magnitude) of the difference\n",
    "        norm = np.linalg.norm(diff)\n",
    "        differences.append(norm)\n",
    "    return differences\n",
    "\n",
    "calc_differences(\n",
    "    get_article_embedding(df.iloc[0]),\n",
    "    get_tag_embeddings(df.iloc[0])\n",
    ")"
   ]
  },
  {
   "cell_type": "code",
   "execution_count": 182,
   "id": "6aaf660d",
   "metadata": {},
   "outputs": [
    {
     "data": {
      "application/vnd.jupyter.widget-view+json": {
       "model_id": "8296281f3348485aa50d40004710ffb1",
       "version_major": 2,
       "version_minor": 0
      },
      "text/plain": [
       "Output()"
      ]
     },
     "metadata": {},
     "output_type": "display_data"
    },
    {
     "data": {
      "text/html": [
       "<pre style=\"white-space:pre;overflow-x:auto;line-height:normal;font-family:Menlo,'DejaVu Sans Mono',consolas,'Courier New',monospace\"></pre>\n"
      ],
      "text/plain": []
     },
     "metadata": {},
     "output_type": "display_data"
    }
   ],
   "source": [
    "# Calculate differences for all articles, then average them and plot the differences between free and premium using a bar plot\n",
    "all_differences = []\n",
    "all_article_embeddings = []\n",
    "all_tag_embeddings = []\n",
    "\n",
    "# Create a progress display\n",
    "with Progress() as progress:\n",
    "    # Create a task with appropriate description\n",
    "    task = progress.add_task(\"[cyan]Calculating article-tag differences...\", total=len(df))\n",
    "    \n",
    "    for article in df.itertuples():\n",
    "        tag_embeddings = get_tag_embeddings(article)\n",
    "        article_embedding = get_article_embedding(article)\n",
    "        differences = calc_differences(article_embedding, tag_embeddings)\n",
    "\n",
    "        all_differences.append(np.mean(differences))\n",
    "        all_article_embeddings.append(article_embedding)\n",
    "        all_tag_embeddings.append(tag_embeddings)\n",
    "        \n",
    "        # Update progress\n",
    "        progress.update(task, advance=1)\n",
    "\n",
    "# Add differences to dataframe\n",
    "df[\"differences\"] = all_differences\n",
    "df[\"article_embeddings\"] = all_article_embeddings\n",
    "df[\"tag_embeddings\"] = all_tag_embeddings"
   ]
  },
  {
   "cell_type": "code",
   "execution_count": 189,
   "id": "c5de2184",
   "metadata": {},
   "outputs": [
    {
     "data": {
      "image/png": "[encoded data removed]",
      "text/plain": [
       "<Figure size 1200x600 with 1 Axes>"
      ]
     },
     "metadata": {},
     "output_type": "display_data"
    }
   ],
   "source": [
    "free_diffs = df[df[\"is_free\"] == 1][\"differences\"]\n",
    "premium_diffs = df[df[\"is_free\"] == 0][\"differences\"]\n",
    "\n",
    "plt.figure(figsize=(12, 6))\n",
    "\n",
    "# Create histograms for both distributions\n",
    "sns.histplot(premium_diffs, kde=True, color='#ff6b6b', alpha=0.6, label='Premium Articles', \n",
    "             bins=50, stat='density')\n",
    "sns.histplot(free_diffs, kde=True, color='#4ecdc4', alpha=0.6, label='Free Articles', \n",
    "             bins=50, stat='density')\n",
    "\n",
    "# Add vertical lines for the means\n",
    "plt.axvline(premium_diffs.mean(), color='#ff6b6b', linestyle='--', linewidth=2,\n",
    "            label=f'Premium Mean: {premium_diffs.mean():.2f}')\n",
    "plt.axvline(free_diffs.mean(), color='#4ecdc4', linestyle='--', linewidth=2,\n",
    "            label=f'Free Mean: {free_diffs.mean():.2f}')\n",
    "\n",
    "# Set plot labels and title\n",
    "plt.title('Distribution of Semantic Distances Between Articles and Their Tags', fontsize=16)\n",
    "plt.xlabel('Semantic Distance', fontsize=14)\n",
    "plt.ylabel('Density', fontsize=14)\n",
    "plt.legend()\n",
    "\n",
    "# Improve overall appearance\n",
    "sns.despine()\n",
    "plt.tight_layout()\n",
    "plt.show()"
   ]
  },
  {
   "cell_type": "code",
   "execution_count": 190,
   "id": "7e0bb6cb",
   "metadata": {},
   "outputs": [
    {
     "name": "stdout",
     "output_type": "stream",
     "text": [
      "Total unique tags: 1979\n"
     ]
    },
    {
     "data": {
      "image/png": "[encoded data removed]",
      "text/plain": [
       "<Figure size 1800x600 with 2 Axes>"
      ]
     },
     "metadata": {},
     "output_type": "display_data"
    }
   ],
   "source": [
    "from collections import Counter\n",
    "\n",
    "def get_tag_freq(articles):\n",
    "    return Counter(tag for tags in articles['tags'] for tag in tags)\n",
    "\n",
    "all_tags = set(tag for tags in df['tags'] for tag in tags)\n",
    "print(f\"Total unique tags: {len(all_tags)}\")\n",
    "\n",
    "# Split data\n",
    "premium_articles = df[~df['is_free']]\n",
    "free_articles = df[df['is_free']]\n",
    "\n",
    "premium_tags = get_tag_freq(premium_articles)\n",
    "free_tags = get_tag_freq(free_articles)\n",
    "\n",
    "# Get top 10 tags\n",
    "top_premium = pd.DataFrame(premium_tags.most_common(10), columns=['Tag', 'Count'])\n",
    "top_free = pd.DataFrame(free_tags.most_common(10), columns=['Tag', 'Count'])\n",
    "\n",
    "# Calculate percentages\n",
    "top_premium['Percentage'] = top_premium['Count'] / len(premium_articles) * 100\n",
    "top_free['Percentage'] = top_free['Count'] / len(free_articles) * 100\n",
    "\n",
    "# Create visualizations of tag distribution\n",
    "fig, (ax1, ax2) = plt.subplots(1, 2, figsize=(18, 6))\n",
    "\n",
    "# Premium tags\n",
    "sns.barplot(x='Tag', y='Percentage', data=top_premium.head(10), ax=ax1, palette='Reds_d')\n",
    "ax1.set_title('Top 10 Tags in Premium Articles', fontsize=14)\n",
    "ax1.set_xlabel('Tag', fontsize=12)\n",
    "ax1.set_ylabel('Percentage of Premium Articles (%)', fontsize=12)\n",
    "ax1.tick_params(axis='x', rotation=45)\n",
    "\n",
    "# Free tags\n",
    "sns.barplot(x='Tag', y='Percentage', data=top_free.head(10), ax=ax2, palette='Blues_d')\n",
    "ax2.set_title('Top 10 Tags in Free Articles', fontsize=14)\n",
    "ax2.set_xlabel('Tag', fontsize=12)\n",
    "ax2.set_ylabel('Percentage of Free Articles (%)', fontsize=12)\n",
    "ax2.tick_params(axis='x', rotation=45)\n",
    "\n",
    "plt.tight_layout()\n",
    "plt.show()\n"
   ]
  },
  {
   "cell_type": "code",
   "execution_count": 192,
   "id": "338683f5",
   "metadata": {},
   "outputs": [
    {
     "name": "stdout",
     "output_type": "stream",
     "text": [
      "837\n",
      "837\n",
      "warning: Embedding dir exists, did you set global_step for add_embedding()?\n",
      "Embeddings successfully added to TensorBoard\n"
     ]
    }
   ],
   "source": [
    "from torch.utils.tensorboard import SummaryWriter\n",
    "import torch\n",
    "import numpy as np\n",
    "from sklearn.decomposition import PCA\n",
    "import matplotlib.pyplot as plt\n",
    "import seaborn as sns\n",
    "from scipy import stats\n",
    "\n",
    "# Stack all embeddings into a single numpy array\n",
    "article_embeddings_array = np.vstack(df['article_embeddings'].values)\n",
    "\n",
    "# Create metadata (tags) for each article\n",
    "metadata = []\n",
    "for tags in df['tags']:\n",
    "    # replace any break lines with nothing\n",
    "    tags = [tag.replace('\\n', '').replace('\\r', '') for tag in tags]\n",
    "    metadata.append(', '.join(tags))\n",
    "\n",
    "print(len(metadata))\n",
    "print(len(article_embeddings_array))\n",
    "\n",
    "# Create the writer\n",
    "writer = SummaryWriter('runs/medium_embeddings')\n",
    "\n",
    "# Add embeddings with metadata without header\n",
    "writer.add_embedding(\n",
    "    mat=article_embeddings_array,\n",
    "    metadata=metadata,\n",
    "    tag='article_embeddings'\n",
    ")\n",
    "\n",
    "writer.close()\n",
    "print(\"Embeddings successfully added to TensorBoard\")"
   ]
  },
  {
   "cell_type": "markdown",
   "id": "0a8a9903",
   "metadata": {},
   "source": [
    "## Bertopic"
   ]
  },
  {
   "cell_type": "code",
   "execution_count": 185,
   "id": "d79c347e",
   "metadata": {},
   "outputs": [
    {
     "data": {
      "application/vnd.jupyter.widget-view+json": {
       "model_id": "79e7f1ad3153427e912aaee474bea841",
       "version_major": 2,
       "version_minor": 0
      },
      "text/plain": [
       "modules.json:   0%|          | 0.00/229 [00:00<?, ?B/s]"
      ]
     },
     "metadata": {},
     "output_type": "display_data"
    },
    {
     "data": {
      "application/vnd.jupyter.widget-view+json": {
       "model_id": "e22b057da1f84fd98f7faf56f89ba1d8",
       "version_major": 2,
       "version_minor": 0
      },
      "text/plain": [
       "config_sentence_transformers.json:   0%|          | 0.00/122 [00:00<?, ?B/s]"
      ]
     },
     "metadata": {},
     "output_type": "display_data"
    },
    {
     "data": {
      "application/vnd.jupyter.widget-view+json": {
       "model_id": "cfb12fd4ed7a41308544a84cf8bc47e7",
       "version_major": 2,
       "version_minor": 0
      },
      "text/plain": [
       "README.md:   0%|          | 0.00/3.89k [00:00<?, ?B/s]"
      ]
     },
     "metadata": {},
     "output_type": "display_data"
    },
    {
     "data": {
      "application/vnd.jupyter.widget-view+json": {
       "model_id": "4a22397b3c94495ca48e23bc232da65a",
       "version_major": 2,
       "version_minor": 0
      },
      "text/plain": [
       "sentence_bert_config.json:   0%|          | 0.00/53.0 [00:00<?, ?B/s]"
      ]
     },
     "metadata": {},
     "output_type": "display_data"
    },
    {
     "data": {
      "application/vnd.jupyter.widget-view+json": {
       "model_id": "1cd99eb137e84205afe95dbfc74f7f1d",
       "version_major": 2,
       "version_minor": 0
      },
      "text/plain": [
       "config.json:   0%|          | 0.00/645 [00:00<?, ?B/s]"
      ]
     },
     "metadata": {},
     "output_type": "display_data"
    },
    {
     "name": "stderr",
     "output_type": "stream",
     "text": [
      "Xet Storage is enabled for this repo, but the 'hf_xet' package is not installed. Falling back to regular HTTP download. For better performance, install the package with: `pip install huggingface_hub[hf_xet]` or `pip install hf_xet`\n"
     ]
    },
    {
     "data": {
      "application/vnd.jupyter.widget-view+json": {
       "model_id": "1c2a852b56b848238ec9a1263688ad53",
       "version_major": 2,
       "version_minor": 0
      },
      "text/plain": [
       "model.safetensors:   0%|          | 0.00/471M [00:00<?, ?B/s]"
      ]
     },
     "metadata": {},
     "output_type": "display_data"
    },
    {
     "data": {
      "application/vnd.jupyter.widget-view+json": {
       "model_id": "e40a734093e046b8944eb4bf85793e4d",
       "version_major": 2,
       "version_minor": 0
      },
      "text/plain": [
       "tokenizer_config.json:   0%|          | 0.00/480 [00:00<?, ?B/s]"
      ]
     },
     "metadata": {},
     "output_type": "display_data"
    },
    {
     "name": "stderr",
     "output_type": "stream",
     "text": [
      "Xet Storage is enabled for this repo, but the 'hf_xet' package is not installed. Falling back to regular HTTP download. For better performance, install the package with: `pip install huggingface_hub[hf_xet]` or `pip install hf_xet`\n"
     ]
    },
    {
     "data": {
      "application/vnd.jupyter.widget-view+json": {
       "model_id": "197566688c1744eba8cf5fc2842ac258",
       "version_major": 2,
       "version_minor": 0
      },
      "text/plain": [
       "tokenizer.json:   0%|          | 0.00/9.08M [00:00<?, ?B/s]"
      ]
     },
     "metadata": {},
     "output_type": "display_data"
    },
    {
     "data": {
      "application/vnd.jupyter.widget-view+json": {
       "model_id": "81c461b63c1545ea935e5c8cdafd8fdc",
       "version_major": 2,
       "version_minor": 0
      },
      "text/plain": [
       "special_tokens_map.json:   0%|          | 0.00/239 [00:00<?, ?B/s]"
      ]
     },
     "metadata": {},
     "output_type": "display_data"
    },
    {
     "data": {
      "application/vnd.jupyter.widget-view+json": {
       "model_id": "5b0e21bd76fc4c01bc17df773e2a7902",
       "version_major": 2,
       "version_minor": 0
      },
      "text/plain": [
       "config.json:   0%|          | 0.00/190 [00:00<?, ?B/s]"
      ]
     },
     "metadata": {},
     "output_type": "display_data"
    }
   ],
   "source": [
    "docs = df['processed_text'].tolist()\n",
    "topic_model = BERTopic(language=\"multilingual\")\n",
    "topics, probabilities = topic_model.fit_transform(docs)"
   ]
  },
  {
   "cell_type": "code",
   "execution_count": 186,
   "id": "3c010734",
   "metadata": {},
   "outputs": [
    {
     "name": "stdout",
     "output_type": "stream",
     "text": [
      "Topic Information:\n",
      "   Topic  Count                          Name  \\\n",
      "0     -1    132          -1_use_user_new_time   \n",
      "1      0    439      0_datum_model_create_use   \n",
      "2      1    270       1_people_like_time_know   \n",
      "3      2     35  2_crypto_exchange_token_coin   \n",
      "4      3     24                3_de_que_eu_la   \n",
      "\n",
      "                                      Representation  \\\n",
      "0  [use, user, new, time, need, like, change, wor...   \n",
      "1  [datum, model, create, use, file, need, data, ...   \n",
      "2  [people, like, time, know, life, feel, thing, ...   \n",
      "3  [crypto, exchange, token, coin, pool, wallet, ...   \n",
      "4        [de, que, eu, la, um, da, uma, não, em, нь]   \n",
      "\n",
      "                                 Representative_Docs  \n",
      "0  [risk wildfire storm hurricane flood heatwave ...  \n",
      "1  [introduction \\n time ago share article summar...  \n",
      "2  [consider fortunate person winner demographic ...  \n",
      "3  [\\n Update 11/11/2022 spectacular collapse wee...  \n",
      "4  [escrito por Lucas Travi Raul Wagner 05/08/202...  \n"
     ]
    }
   ],
   "source": [
    "topic_info = topic_model.get_topic_info()\n",
    "print(\"Topic Information:\")\n",
    "print(topic_info)"
   ]
  },
  {
   "cell_type": "code",
   "execution_count": null,
   "id": "252c6730",
   "metadata": {},
   "outputs": [],
   "source": []
  }
 ],
 "metadata": {
  "kernelspec": {
   "display_name": ".venv",
   "language": "python",
   "name": "python3"
  },
  "language_info": {
   "codemirror_mode": {
    "name": "ipython",
    "version": 3
   },
   "file_extension": ".py",
   "mimetype": "text/x-python",
   "name": "python",
   "nbconvert_exporter": "python",
   "pygments_lexer": "ipython3",
   "version": "3.12.7"
  }
 },
 "nbformat": 4,
 "nbformat_minor": 5
}
