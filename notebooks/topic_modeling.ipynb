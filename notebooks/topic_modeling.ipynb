{
 "cells": [
  {
   "cell_type": "code",
   "execution_count": null,
   "id": "e6035547",
   "metadata": {},
   "outputs": [],
   "source": [
    "from database.database import MediumArticle, URL, Comment, Author\n",
    "from database.database import get_session\n",
    "import pandas as pd\n",
    "import seaborn as sns\n",
    "import matplotlib.pyplot as plt\n",
    "import matplotlib.dates as mdates\n",
    "import datetime\n",
    "from sqlalchemy import func\n",
    "from IPython.display import display, Markdown, Latex\n",
    "import re\n",
    "\n",
    "\n",
    "session = get_session()"
   ]
  },
  {
   "cell_type": "code",
   "execution_count": 3,
   "id": "8fb62bd8",
   "metadata": {},
   "outputs": [
    {
     "data": {
      "application/vnd.jupyter.widget-view+json": {
       "model_id": "1bfacd12cdb14649b4fc72abfd32bb60",
       "version_major": 2,
       "version_minor": 0
      },
      "text/plain": [
       "FloatProgress(value=0.0, layout=Layout(width='auto'), style=ProgressStyle(bar_color='black'))"
      ]
     },
     "metadata": {},
     "output_type": "display_data"
    },
    {
     "name": "stdout",
     "output_type": "stream",
     "text": [
      "Number of articles published since 2020-01-01 in English: 35185\n"
     ]
    }
   ],
   "source": [
    "# query all articles\n",
    "articles_df = pd.read_sql(session.query(MediumArticle).statement, session.bind)\n",
    "articles_df[\"text_length\"] = articles_df[\"full_article_text\"].apply(lambda x: len(x.split()))\n",
    "\n",
    "articles_filtered = articles_df[articles_df[\"date_published\"] > datetime.datetime(2020, 1, 1)]\n",
    "articles_filtered = articles_filtered[articles_filtered[\"language\"] == \"en\"]\n",
    "print(f\"Number of articles published since 2020-01-01 in English: {len(articles_filtered)}\")\n",
    "\n",
    "free_articles_df = articles_filtered[articles_filtered[\"is_free\"] == True]\n",
    "paid_articles_df = articles_filtered[articles_filtered[\"is_free\"] == False]"
   ]
  },
  {
   "cell_type": "code",
   "execution_count": 14,
   "id": "a476722d",
   "metadata": {},
   "outputs": [
    {
     "data": {
      "text/plain": [
       "'This is a very rare combination anyone will explain in detail to use **Maven**, **Struts2**, **Hibernate** and maven Archetype as **maven\\\\-archetype\\\\-webapp** to create a end to end application.\\n\\nIn this blog, I attempted to explain each step of creating a Maven\\\\-based Struts 2 \\\\+ Hibernate application. It was a time\\\\-consuming task, but at the end of the day, it was completed and delivered successfully.\\n\\nLets start our journey to go through and learn complete implementation.\\n\\nWe are going to use Eclipse as an editor to develop Maven \\\\+ Struts2 \\\\+ Hibernate application.\\n\\nFollow below steps to create our very first Struts application project.\\n\\n1. Open Eclipse.\\n2. Click on **File** in top navigation menu and than click on **new**. There will be an option **Maven Project** start coming. Select **Maven Project** will take you to the below screen**.**\\n\\nDo not make any change and click on **Next**.\\n\\nZoom image will be displayed![](https://miro.medium.com/v2/resize:fit:1400/1*wSPRsJ2rpxANxO8yFQGQfg.png)3\\\\. In the filter section type **maven\\\\-archetype\\\\-webapp** will give you list of options to select.\\n\\nSelect below below second highlighted option red in color and click on **Next**.\\n\\nZoom image will be displayed![](https://miro.medium.com/v2/resize:fit:1400/1*MDqSzx-kDXNdnQnZ16Slvg.png)4\\\\. Enter Group Id and Artifact Id as highlighted below red in color.\\n\\nClick on Next will create a project.\\n\\nZoom image will be displayed![](https://miro.medium.com/v2/resize:fit:1400/1*jepRKmO-KXMaCOx7pwCOyw.png)5\\\\. It will create below folder structure\\n\\n![](https://miro.medium.com/v2/resize:fit:806/1*scYwUIR7qHtYYiLbqJby0A.png)6\\\\. Open **pom.xml** and place below highlighted dependency red in color.\\n\\n![](https://miro.medium.com/v2/resize:fit:1384/1*6vD4W06bAaXSXVyu8w1uuQ.png)\\n\\nHibernate Implementation\\n========================\\n\\n7\\\\. Lets configure Hibernate first in the project. Inside src we have main folder. Right click on the main folder and create one **Java** folder as shown below highlighted red in color.\\n\\nIt will also create a folder hierarchy highlighted green in color.\\n\\n![](https://miro.medium.com/v2/resize:fit:666/1*9U82idEwUyWQWBmWkQ_kbA.png)8\\\\. Right click on the folder highlighted green in color in previous step and create package with name **com.javadoubts.PractiseHibernate**\\n\\nIn the same package create **User.java** class with below content.\\n\\nZoom image will be displayed![](https://miro.medium.com/v2/resize:fit:1400/1*NkEhLaRHQt897iWzn5mRZA.png)9\\\\. In the same package and parallel to User.java class, create **UserDao.java** class with below content.\\n\\nZoom image will be displayed![](https://miro.medium.com/v2/resize:fit:1400/1*9BlmdRuFBucwcpAPJK3iPA.png)10\\\\. Inside src folder and parallel to java folder, create once more folder with the name of **resources** as highlighted below red in color.\\n\\n![](https://miro.medium.com/v2/resize:fit:836/1*VfZohngkNDzIGh2zzzfNIQ.png)11\\\\. Paste below **hibernate.cfg.xml** and **user.hbm.xml** files inside resource folder created in above step having below inline content.\\n\\n**hibernate.cfg.xml**\\n\\nZoom image will be displayed![](https://miro.medium.com/v2/resize:fit:1400/1*QVaPkhN6V3kSUYSEAwVXxg.png)**user.hbm.xml**\\n\\nZoom image will be displayed![](https://miro.medium.com/v2/resize:fit:1400/1*Pm1T3qjYd8n_W_KP3hKJlA.png)**Important Note:**After adding both the above xml files. Right on resource folder select **Build Path** and than **Use as Source Folder**.\\n\\n**Right click on resource folder \\\\-\\\\> Build Path** \\\\-\\\\> **Use as Source Folder**\\n\\n**\\\\<hibernate\\\\-mapping\\\\>** contains all bean class mappings.\\n\\n**\\\\<class\\\\>** create mapping in between class and table. **name** attribute value represents to class name and **table** attribute value represents to MySQL table name.\\n\\n**\\\\<property\\\\>** represents to class declare class level variable. **name** attribute value represents to class level variable and **type** represents to data type of that variable.\\n\\n**\\\\<column\\\\>** represents to column MySQL table. **name** attribute value represents to column name.\\n\\n**\\\\<id\\\\>** represents to unique ID attribute in class map to the primary key of the database table.\\n\\n**\\\\<generator\\\\>** this helps to generate unique id for given column.\\n\\n12\\\\. Open MySQL command prompt. Create and data inside user table with the help of below query.\\n\\n\\n> create table user(id int NOT NULL AUTO\\\\_INCREMENT, name varchar(20\\\\), primary key(id));\\n> \\n> insert into user value(1, “John”)\\n\\n13\\\\. **Open UserDao.java** class, **right click** and **run as Java application** will give below output.\\n\\nZoom image will be displayed![](https://miro.medium.com/v2/resize:fit:1400/1*ONCbH32BVFYRGV3FQAEUuw.png)\\n\\nStruts Implementation\\n=====================\\n\\n14\\\\. In web.xml folder below content to load index.jsp file as soon as server starts up and also load Struts2 configurations.\\n\\nZoom image will be displayed![](https://miro.medium.com/v2/resize:fit:1400/1*5GiqvJE4KqstDMqKKesiiw.png)15\\\\. Create **struts.xml** inside src/main/java folder highlighted as blue '"
      ]
     },
     "execution_count": 14,
     "metadata": {},
     "output_type": "execute_result"
    }
   ],
   "source": [
    "free_articles_df[\"full_article_text\"].iloc[0][:5000]"
   ]
  },
  {
   "cell_type": "markdown",
   "id": "87d9d569",
   "metadata": {},
   "source": [
    "## Build Pipeline"
   ]
  },
  {
   "cell_type": "code",
   "execution_count": 20,
   "id": "027336f8",
   "metadata": {},
   "outputs": [
    {
     "data": {
      "text/plain": [
       "'this is a very rare combination anyone will explain in detail to use maven, struts2, hibernate and maven archetype as maven-archetype-webapp to create a end to end application. in this blog, i attempted to explain each step of creating a maven-based struts 2 + hibernate application. it was a time-consuming task, but at the end of the day, it was completed and delivered successfully. lets start our journey to go through and learn complete implementation. we are going to use eclipse as an editor to develop maven + struts2 + hibernate application. follow below steps to create our very first struts application project. 1. open eclipse. 2. click on file in top navigation menu and than click on new. there will be an option maven project start coming. select maven project will take you to the below screen. do not make any change and click on next. 3. in the filter section type maven-archetype-webapp will give you list of options to select. select below below second highlighted option red in color and click on next. 4. enter group id and artifact id as highlighted below red in color. click on next will create a project. 5. it will create below folder structure 6. open pom.xml and place below highlighted dependency red in color. hibernate implementation ======================== 7. lets configure hibernate first in the project. inside src we have main folder. right click on the main folder and create one java folder as shown below highlighted red in color. it will also create a folder hierarchy highlighted green in color. 8. right click on the folder highlighted green in color in previous step and create package with name com.javadoubts.practisehibernate in the same package create user.java class with below content. 9. in the same package and parallel to user.java class, create userdao.java class with below content. 10. inside src folder and parallel to java folder, create once more folder with the name of resources as highlighted below red in color. 11. paste below hibernate.cfg.xml and user.hbm.xml files inside resource folder created in above step having below inline content. hibernate.cfg.xml user.hbm.xml important note:after adding both the above xml files. right on resource folder select build path and than use as source folder. right click on resource folder -\\\\> build path -\\\\> use as source folder \\\\ contains all bean class mappings. \\\\ create mapping in between class and table. name attribute value represents to class name and table attribute value represents to mysql table name. \\\\ represents to class declare class level variable. name attribute value represents to class level variable and type represents to data type of that variable. \\\\ represents to column mysql table. name attribute value represents to column name. \\\\ represents to unique id attribute in class map to the primary key of the database table. \\\\ this helps to generate unique id for given column. 12. open mysql command prompt. create and data inside user table with the help of below query. > create table user(id int not null autoincrement, name varchar(20), primary key(id)); > > insert into user value(1, “john”) 13. open userdao.java class, right click and run as java application will give below output. struts implementation ===================== 14. in web.xml folder below content to load index.jsp file as soon as server starts up and also load struts2 configurations. 15. create struts.xml inside src/main/java folder highlighted as blue in color. 16. place below content inside struts.xml file create in previous step. \\\\ tag will help us to create an action. class: class attribute in action tag will take class with complete package name as value. method: declare method name which which belong to a class declared in class attribute in action tag. name: name attribute in action tag is to map an action which will get call after hitting below url as an example. e.g. → \\\\ result tags will maintain a mapping. this mapping will be responsible for calling an action or interceptor at the time of the request reaching the server and also for loading a specific jsp as in response. 17. update user.java class with below content to add execuet() method. 18. place below highlighted file with below inline content inside webapp folder: error.jsp ============= index.jsp ============= welcome.jsp =============== 19. right click on the project root folder practic and select run as and than run on server. below screen will appear as soon as server gets started. hit below url in chrome browser to test struts application struts2 + hibernate integration ================================ 20. update userdao.java class with below highlighted changes red in color. as part of update change method name from main(string\\\\21. update user.java class also with below highlighted changes red in color. 22. again, right click on the project root folder practic and select run as and than run on server. below screen will appear as soon as server gets started. after entering one and submit form will take us to welcome.jsp and show below output to print name. i hope you found out this article interesting and informative. please share it with your friends to spread the knowledge. you can follow me for upcoming blogs . thank you!'"
      ]
     },
     "execution_count": 20,
     "metadata": {},
     "output_type": "execute_result"
    }
   ],
   "source": [
    "def preprocess_markdown_for_embedding(markdown_text: str) -> str:\n",
    "    \"\"\"\n",
    "    Cleans and strips markdown content, leaving behind only the semantic text\n",
    "    ready for an embedding model.\n",
    "\n",
    "    Args:\n",
    "        markdown_text: The raw markdown string.\n",
    "\n",
    "    Returns:\n",
    "        A cleaned text string.\n",
    "    \"\"\"\n",
    "\n",
    "    # --- 1. Initial Cleaning and Normalization ---\n",
    "\n",
    "    # 1.1 REMOVE LINKS AND IMAGE TAGS: Remove the pattern [text](url) and ![text](url)\n",
    "    text = re.sub(r'\\!?\\[.*?\\]\\s*\\(.*?\\)', '', markdown_text, flags=re.DOTALL)\n",
    "    text = re.sub(r'Zoom image will be displayed', '', text)\n",
    "    text = re.sub(r'http[s]?://miro.medium.com/v2/resize:.*?\\.png', '', text)\n",
    "\n",
    "    # 1.2 Remove Extraneous Backslashes (e.g., escaping in \\- or \\.)\n",
    "    text = re.sub(r'\\\\-', '-', text)\n",
    "    text = re.sub(r'\\\\([`*_{}\\[\\]()#+.!])', r'\\1', text)\n",
    "    \n",
    "    # 1.3 Normalize Newlines: Convert multiple newlines/whitespace into a single space\n",
    "    text = re.sub(r'\\s+', ' ', text).strip()\n",
    "    \n",
    "    # --- 2. Markdown Structure Stripping ---\n",
    "\n",
    "    # 2.1 Remove Headings (Setext style: === or --- lines)\n",
    "    text = re.sub(r'\\n[=-]{2,}\\s*$', '', text, flags=re.MULTILINE)\n",
    "\n",
    "    # 2.2 Remove Blockquotes/Code Fences (Markers: > and ```)\n",
    "    text = re.sub(r'^\\s*>\\s?', '', text, flags=re.MULTILINE)\n",
    "    text = re.sub(r'```[a-zA-Z]*\\s*', ' ', text)\n",
    "    text = re.sub(r'`', ' ', text)\n",
    "    \n",
    "    # 2.3 Remove List Markers (e.g., 1. or - or *)\n",
    "    text = re.sub(r'^\\s*\\d+\\.\\s', '', text, flags=re.MULTILINE)\n",
    "    text = re.sub(r'^\\s*[\\-\\*]\\s', '', text, flags=re.MULTILINE)\n",
    "    \n",
    "    # 2.4 Remove Emphasis Markers (e.g., **, *, __, _)\n",
    "    text = re.sub(r'(\\*\\*|__)', '', text) # Bold/Strong\n",
    "    text = re.sub(r'(\\*|_)', '', text)    # Italic/Emphasis\n",
    "\n",
    "    # 2.5 Remove remaining HTML tags (like '<hibernate-mapping>') which are often in code\n",
    "    text = re.sub(r'<[^>]+>', '', text)\n",
    "    \n",
    "    # --- 3. Final Text Polishing ---\n",
    "\n",
    "    # 3.1 Normalize Whitespace again: Collapse all multiple spaces into one\n",
    "    text = re.sub(r'\\s+', ' ', text).strip()\n",
    "\n",
    "    # 3.2 Lowercasing (Optional but recommended for many embedding models)\n",
    "    text = text.lower()\n",
    "\n",
    "    return text\n",
    "\n",
    "## preprocess sample\n",
    "sample_text = free_articles_df[\"full_article_text\"].iloc[0]\n",
    "preprocessed_chunks = preprocess_markdown_for_embedding(sample_text)\n",
    "preprocessed_chunks"
   ]
  },
  {
   "cell_type": "code",
   "execution_count": null,
   "id": "afc4c987",
   "metadata": {},
   "outputs": [],
   "source": []
  },
  {
   "cell_type": "code",
   "execution_count": null,
   "id": "326e37fc",
   "metadata": {},
   "outputs": [],
   "source": []
  },
  {
   "cell_type": "code",
   "execution_count": null,
   "id": "8a7391da",
   "metadata": {},
   "outputs": [],
   "source": []
  }
 ],
 "metadata": {
  "kernelspec": {
   "display_name": "medium-mining-py3.12",
   "language": "python",
   "name": "python3"
  },
  "language_info": {
   "codemirror_mode": {
    "name": "ipython",
    "version": 3
   },
   "file_extension": ".py",
   "mimetype": "text/x-python",
   "name": "python",
   "nbconvert_exporter": "python",
   "pygments_lexer": "ipython3",
   "version": "3.12.10"
  }
 },
 "nbformat": 4,
 "nbformat_minor": 5
}
