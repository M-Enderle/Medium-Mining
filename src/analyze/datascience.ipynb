{
 "cells": [
  {
   "cell_type": "markdown",
   "id": "f49a9947",
   "metadata": {},
   "source": [
    "# Imports"
   ]
  },
  {
   "cell_type": "code",
   "execution_count": null,
   "id": "f80177da",
   "metadata": {},
   "outputs": [],
   "source": [
    "from database.database import SessionLocal, MediumArticle\n",
    "from sqlalchemy.sql import func\n",
    "import seaborn as sns\n",
    "import matplotlib.pyplot as plt\n",
    "import pandas as pd\n",
    "import numpy as np\n",
    "\n",
    "from database.database import Author\n",
    "from sqlalchemy import text\n",
    "from sklearn.feature_extraction.text import CountVectorizer, TfidfVectorizer\n",
    "from sklearn.decomposition import LatentDirichletAllocation\n",
    "\n",
    "\n",
    "pd.set_option('display.max_columns', None)\n",
    "pd.set_option('display.expand_frame_repr', False)"
   ]
  },
  {
   "cell_type": "code",
   "execution_count": null,
   "id": "91f3283c",
   "metadata": {},
   "outputs": [],
   "source": [
    "# DB \n",
    "session = SessionLocal()"
   ]
  },
  {
   "cell_type": "markdown",
   "id": "3eb62fea",
   "metadata": {},
   "source": [
    "# Descriptive Statistics"
   ]
  },
  {
   "cell_type": "code",
   "execution_count": null,
   "id": "d3edeac5",
   "metadata": {},
   "outputs": [],
   "source": [
    "stats = session.query(\n",
    "    func.count(MediumArticle.id).label('total_articles'),\n",
    "    func.avg(MediumArticle.claps).label('avg_claps'),\n",
    "    func.avg(MediumArticle.comments_count).label('avg_comments'),\n",
    "    func.avg(MediumArticle.read_time).label('avg_read_time')\n",
    ").one()\n",
    "\n",
    "# Print results\n",
    "print(f\"Total Articles: {stats.total_articles}\")\n",
    "print(f\"Average Claps: {stats.avg_claps:.2f}\")\n",
    "print(f\"Average Comments: {stats.avg_comments:.2f}\")\n",
    "print(f\"Average Read Time: {stats.avg_read_time:.2f} minutes\")\n",
    "\n",
    "# Fetch data for distributions\n",
    "read_times = session.query(MediumArticle.read_time).all()\n",
    "claps = session.query(MediumArticle.claps).all()\n",
    "\n",
    "# Convert to pandas Series\n",
    "read_times = pd.Series([r[0] for r in read_times if r[0] is not None])\n",
    "claps = pd.Series([c[0] for c in claps if c[0] is not None])\n",
    "\n",
    "# Plot distributions\n",
    "plt.figure(figsize=(12, 6))\n",
    "plt.subplot(1, 2, 1)\n",
    "sns.histplot(read_times, kde=True)\n",
    "plt.title('Distribution of Read Time')\n",
    "plt.xlabel('Read Time (minutes)')\n",
    "plt.subplot(1, 2, 2)\n",
    "sns.histplot(claps, kde=True)\n",
    "plt.title('Distribution of Claps')\n",
    "plt.xlabel('Claps')\n",
    "plt.tight_layout()\n",
    "plt.show()"
   ]
  },
  {
   "cell_type": "markdown",
   "id": "a1a32bf5",
   "metadata": {},
   "source": [
    "# Time Series Analysis"
   ]
  },
  {
   "cell_type": "code",
   "execution_count": null,
   "id": "064a6ea4",
   "metadata": {},
   "outputs": [],
   "source": [
    "articles_over_time = session.query(\n",
    "    func.date_trunc('month', MediumArticle.date_published).label('month'),\n",
    "    func.count(MediumArticle.id).label('articles_count')\n",
    ").group_by('month').order_by('month').all()\n",
    "\n",
    "# Convert to DataFrame\n",
    "df_articles = pd.DataFrame(articles_over_time, columns=['month', 'articles_count'])\n",
    "\n",
    "# Plot articles over time\n",
    "plt.figure(figsize=(10, 6))\n",
    "sns.lineplot(data=df_articles, x='month', y='articles_count')\n",
    "plt.title('Number of Articles Published Over Time')\n",
    "plt.xlabel('Month')\n",
    "plt.ylabel('Article Count')\n",
    "plt.xticks(rotation=45)\n",
    "plt.show()"
   ]
  },
  {
   "cell_type": "markdown",
   "id": "1de2849a",
   "metadata": {},
   "source": [
    "# Author Analysis"
   ]
  },
  {
   "cell_type": "code",
   "execution_count": null,
   "id": "1a886842",
   "metadata": {},
   "outputs": [],
   "source": [
    "# Query author stats with author names\n",
    "\n",
    "author_stats = session.query(\n",
    "    Author.username,\n",
    "    func.count(MediumArticle.id).label('articles_count'),\n",
    ").join(Author, MediumArticle.author_id == Author.id) \\\n",
    " .group_by(Author.username).all()\n",
    "\n",
    "# Convert to DataFrame\n",
    "df_authors = pd.DataFrame(author_stats, columns=['author_name', 'articles_count'])\n",
    "\n",
    "# Plot top 10 authors by article count\n",
    "top_authors = df_authors.nlargest(10, 'articles_count')\n",
    "plt.figure(figsize=(10, 6))\n",
    "sns.barplot(data=top_authors, x='author_name', y='articles_count')\n",
    "plt.title('Top 10 Authors by Article Count')\n",
    "plt.xlabel('Author Name')\n",
    "plt.ylabel('Article Count')\n",
    "plt.xticks(rotation=45, ha='right')\n",
    "plt.show()\n"
   ]
  },
  {
   "cell_type": "markdown",
   "id": "b8c64f0b",
   "metadata": {},
   "source": [
    "# Tag Analysis"
   ]
  },
  {
   "cell_type": "code",
   "execution_count": null,
   "id": "c09375b7",
   "metadata": {},
   "outputs": [],
   "source": [
    "\n",
    "# Convert the query result to a list of tuples\n",
    "tag_query = [(row[0], row[1], row[2]) for row in session.execute(text(\"\"\"\n",
    "    SELECT tag, COUNT(*) as tag_count, AVG(claps) as avg_claps\n",
    "    FROM medium_articles, UNNEST(tags) as tag\n",
    "    GROUP BY tag\n",
    "    ORDER BY tag_count DESC\n",
    "\"\"\")).fetchall()]\n",
    "\n",
    "# Convert to DataFrame\n",
    "df_tags = pd.DataFrame(tag_query, columns=['tag', 'tag_count', 'avg_claps'])\n",
    "\n",
    "# Ensure 'tag' is of string type\n",
    "df_tags['tag'] = df_tags['tag'].astype(str)\n",
    "\n",
    "# apply x.split(\":'\")[1].split(\"}\")[0] to clean the tags\n",
    "df_tags['tag'] = df_tags['tag'].apply(lambda x: x.split(\"'\")[3].split(\"}\")[0] if isinstance(x, str) else x)\n",
    "\n",
    "# Plot top 10 tags by frequency\n",
    "top_tags = df_tags.nlargest(10, 'tag_count')\n",
    "plt.figure(figsize=(10, 6))\n",
    "sns.barplot(data=top_tags, x='tag', y='tag_count')\n",
    "plt.title('Top 10 Tags by Frequency')\n",
    "plt.xlabel('Tag')\n",
    "plt.ylabel('Frequency')\n",
    "plt.xticks(rotation=45, ha='right')\n",
    "plt.show()\n",
    "\n",
    "# Plot average claps for top tags\n",
    "plt.figure(figsize=(10, 6))\n",
    "sns.barplot(data=top_tags, x='tag', y='avg_claps')\n",
    "plt.title('Average Claps for Top 10 Tags')\n",
    "plt.xlabel('Tag')\n",
    "plt.ylabel('Average Claps')\n",
    "plt.xticks(rotation=45, ha='right')\n",
    "plt.show()\n"
   ]
  },
  {
   "cell_type": "markdown",
   "id": "dfa5f1ce",
   "metadata": {},
   "source": [
    "# Content Analysis"
   ]
  },
  {
   "cell_type": "code",
   "execution_count": null,
   "id": "9fb51722",
   "metadata": {},
   "outputs": [],
   "source": [
    "\n",
    "texts = session.query(MediumArticle.full_article_text).all()\n",
    "texts = [t[0] for t in texts if t[0]]\n",
    "\n",
    "# Word frequency analysis\n",
    "vectorizer = CountVectorizer(stop_words='english', max_features=20)\n",
    "word_counts = vectorizer.fit_transform(texts)\n",
    "word_freq = np.array(word_counts.sum(axis=0)).flatten()\n",
    "words = vectorizer.get_feature_names_out()\n",
    "\n",
    "# sort the words and frequencies by frequency\n",
    "sorted_indices = np.argsort(word_freq)[::-1]\n",
    "words = words[sorted_indices][:20]\n",
    "word_freq = word_freq[sorted_indices][:20]\n",
    "\n",
    "# Plot top 20 words\n",
    "plt.figure(figsize=(10, 6))\n",
    "sns.barplot(x=words, y=word_freq)\n",
    "plt.title('Top 20 Words in Articles')\n",
    "plt.xlabel('Word')\n",
    "plt.ylabel('Frequency')\n",
    "plt.xticks(rotation=45)\n",
    "plt.show()"
   ]
  },
  {
   "cell_type": "markdown",
   "id": "1e88c697",
   "metadata": {},
   "source": [
    "# Comment Analysis"
   ]
  },
  {
   "cell_type": "code",
   "execution_count": null,
   "id": "3dfc0d26",
   "metadata": {},
   "outputs": [],
   "source": [
    "comments_per_article = session.query(MediumArticle.id, MediumArticle.comments_count).all()\n",
    "df_comments = pd.DataFrame(comments_per_article, columns=['id', 'comments_count']).dropna()\n",
    "\n",
    "# Plot distribution\n",
    "plt.figure(figsize=(10, 6))\n",
    "sns.histplot(df_comments['comments_count'], kde=True)\n",
    "plt.title('Distribution of Comments per Article')\n",
    "plt.xlabel('Comments Count')\n",
    "plt.ylabel('Frequency')\n",
    "plt.show()"
   ]
  },
  {
   "cell_type": "code",
   "execution_count": null,
   "id": "04883047",
   "metadata": {},
   "outputs": [],
   "source": [
    "read_time_claps = session.query(MediumArticle.read_time, MediumArticle.claps).all()\n",
    "df_read_time = pd.DataFrame(read_time_claps, columns=['read_time', 'claps']).dropna()\n",
    "\n",
    "# correlation analysis\n",
    "g = sns.JointGrid(data=df_read_time, x='read_time', y='claps', space=0, xlim=(0, 20), ylim=(0, 1000))\n",
    "g.plot_joint(sns.kdeplot, fill=True, cmap=\"rocket\", clip=((0, 20), (0, 1000)), thresh=0, levels=100)\n",
    "g.plot_marginals(sns.histplot, kde=True, color=\"#03051A\", bins=50)"
   ]
  },
  {
   "cell_type": "code",
   "execution_count": null,
   "id": "658ae5bc",
   "metadata": {},
   "outputs": [],
   "source": [
    "free_vs_paid = session.query(\n",
    "    MediumArticle.is_free,\n",
    "    func.avg(MediumArticle.claps).label('avg_claps')\n",
    ").group_by(MediumArticle.is_free).all()\n",
    "\n",
    "# Convert to DataFrame\n",
    "df_free_paid = pd.DataFrame(free_vs_paid, columns=['is_free', 'avg_claps'])\n",
    "\n",
    "# Plot\n",
    "plt.figure(figsize=(8, 6))\n",
    "sns.barplot(data=df_free_paid, x='is_free', y='avg_claps')\n",
    "plt.title('Average Claps for Free vs Paid Articles')\n",
    "plt.xlabel('Is Free')\n",
    "plt.ylabel('Average Claps')\n",
    "plt.show()"
   ]
  },
  {
   "cell_type": "code",
   "execution_count": null,
   "id": "ce0fa1b6",
   "metadata": {},
   "outputs": [],
   "source": [
    "# Query claps by publisher_type\n",
    "publisher_stats = session.query(\n",
    "    MediumArticle.publisher_type,\n",
    "    func.avg(MediumArticle.claps).label('avg_claps')\n",
    ").group_by(MediumArticle.publisher_type).all()\n",
    "\n",
    "# Convert to DataFrame\n",
    "df_publisher = pd.DataFrame(publisher_stats, columns=['publisher_type', 'avg_claps'])\n",
    "\n",
    "# Plot\n",
    "plt.figure(figsize=(10, 6))\n",
    "sns.barplot(data=df_publisher, x='publisher_type', y='avg_claps')\n",
    "plt.title('Average Claps by Publisher Type')\n",
    "plt.xlabel('Publisher Type')\n",
    "plt.ylabel('Average Claps')\n",
    "plt.xticks(rotation=45)\n",
    "plt.show()"
   ]
  },
  {
   "cell_type": "code",
   "execution_count": null,
   "id": "6d93a21e",
   "metadata": {},
   "outputs": [],
   "source": [
    "\n",
    "session = SessionLocal()\n",
    "\n",
    "# Fetch article texts\n",
    "texts = [t[0] for t in session.query(MediumArticle.full_article_text).all() if t[0]]\n",
    "\n",
    "# Vectorize texts\n",
    "vectorizer = TfidfVectorizer(stop_words='english', max_features=1000)\n",
    "X = vectorizer.fit_transform(texts)\n",
    "\n",
    "# Fit LDA\n",
    "lda = LatentDirichletAllocation(n_components=5, random_state=42)\n",
    "lda.fit(X)\n",
    "\n",
    "# Display topics\n",
    "terms = vectorizer.get_feature_names_out()\n",
    "for i, topic in enumerate(lda.components_):\n",
    "    print(f\"Topic {i}: {' '.join([terms[j] for j in topic.argsort()[-10:]])}\")"
   ]
  },
  {
   "cell_type": "code",
   "execution_count": null,
   "id": "9ea36387",
   "metadata": {},
   "outputs": [],
   "source": [
    "interactions = session.execute(text(\"\"\"\n",
    "    SELECT \n",
    "        a.author_id as article_author, \n",
    "        c.author_id as comment_author, \n",
    "        COUNT(*) as interaction_count,\n",
    "        aa.username as article_author_name,\n",
    "        ca.username as comment_author_name\n",
    "    FROM medium_articles a\n",
    "    JOIN comments c ON a.id = c.article_id\n",
    "    JOIN authors aa ON a.author_id = aa.id\n",
    "    JOIN authors ca ON c.author_id = ca.id\n",
    "    WHERE a.author_id != c.author_id\n",
    "    GROUP BY a.author_id, c.author_id, aa.username, ca.username\n",
    "    ORDER BY interaction_count DESC\n",
    "\"\"\")).fetchall()\n",
    "\n",
    "# Convert to DataFrame\n",
    "df_interactions = pd.DataFrame(interactions, columns=['article_author', 'comment_author', 'interaction_count', 'article_author_name', 'comment_author_name'])\n",
    "\n",
    "\n",
    "# reorder columns to article_author, article_author_name, comment_author, comment_author_name, interaction_count\n",
    "df_interactions = df_interactions[['article_author', 'article_author_name', 'comment_author', 'comment_author_name', 'interaction_count']]\n",
    "\n",
    "# make pandas use the whole width of the screen\n",
    "\n",
    "\n",
    "# Display top interactions\n",
    "print(df_interactions.head())"
   ]
  },
  {
   "cell_type": "code",
   "execution_count": null,
   "id": "6c7fad53",
   "metadata": {},
   "outputs": [],
   "source": [
    "# Sentiment analysis\n",
    "from textblob import TextBlob\n",
    "\n",
    "full_article_texts = session.query(MediumArticle.full_article_text).all()\n",
    "full_article_texts = [t[0] for t in full_article_texts if t[0]]\n",
    "\n",
    "sentiment_subjectivity = [TextBlob(text).sentiment for text in full_article_texts]\n",
    "sentiments = [s.polarity for s in sentiment_subjectivity]\n",
    "objectivities = [1 - s.subjectivity for s in sentiment_subjectivity]\n",
    "sentiments = pd.Series(sentiments)\n",
    "objectivities = pd.Series(objectivities)\n",
    "\n",
    "# distribution of sentiments\n",
    "plt.figure(figsize=(10, 6))\n",
    "sns.histplot(sentiments, kde=True)\n",
    "plt.title('Distribution of Sentiments')\n",
    "plt.xlabel('Sentiment Polarity')\n",
    "plt.ylabel('Frequency')\n",
    "plt.xlim(-1, 1)\n",
    "plt.show()\n",
    "\n",
    "# distribution of objectivities\n",
    "plt.figure(figsize=(10, 6))\n",
    "sns.histplot(objectivities, kde=True)\n",
    "plt.title('Distribution of Objectivities') \n",
    "plt.xlabel('Objectivity')\n",
    "plt.ylabel('Frequency')\n",
    "plt.xlim(0, 1)\n",
    "plt.show()"
   ]
  },
  {
   "cell_type": "code",
   "execution_count": null,
   "id": "ffbd1088",
   "metadata": {},
   "outputs": [],
   "source": []
  }
 ],
 "metadata": {
  "kernelspec": {
   "display_name": ".venv",
   "language": "python",
   "name": "python3"
  },
  "language_info": {
   "codemirror_mode": {
    "name": "ipython",
    "version": 3
   },
   "file_extension": ".py",
   "mimetype": "text/x-python",
   "name": "python",
   "nbconvert_exporter": "python",
   "pygments_lexer": "ipython3",
   "version": "3.12.9"
  }
 },
 "nbformat": 4,
 "nbformat_minor": 5
}
